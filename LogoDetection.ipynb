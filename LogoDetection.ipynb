{
  "nbformat": 4,
  "nbformat_minor": 0,
  "metadata": {
    "colab": {
      "name": "LogoDetection.ipynb",
      "provenance": [],
      "collapsed_sections": [],
      "authorship_tag": "ABX9TyPL5m+xn+PuRu48KPUsf3mt",
      "include_colab_link": true
    },
    "kernelspec": {
      "name": "python3",
      "display_name": "Python 3"
    }
  },
  "cells": [
    {
      "cell_type": "markdown",
      "metadata": {
        "id": "view-in-github",
        "colab_type": "text"
      },
      "source": [
        "<a href=\"https://colab.research.google.com/github/thedide/logo_detection/blob/main/LogoDetection.ipynb\" target=\"_parent\"><img src=\"https://colab.research.google.com/assets/colab-badge.svg\" alt=\"Open In Colab\"/></a>"
      ]
    },
    {
      "cell_type": "code",
      "metadata": {
        "id": "VHrJGVfveXg9",
        "outputId": "6142fe18-b171-41bf-ad9b-e3007945065c",
        "colab": {
          "base_uri": "https://localhost:8080/"
        }
      },
      "source": [
        "from os import path\n",
        "#from wheel.pep425tags import get_abbr_impl, get_impl_ver, get_abi_tag\n",
        "#platform = '{}{}-{}'.format(get_abbr_impl(), get_impl_ver(), get_abi_tag())\n",
        "\n",
        "accelerator = 'cu80' if path.exists('/opt/bin/nvidia-smi') else 'cpu'\n",
        "\n",
        "!pip3 install -q http://download.pytorch.org/whl/{accelerator}/torch-0.4.0-{platform}-linux_x86_64.whl \n",
        "!pip3 install torchvision"
      ],
      "execution_count": null,
      "outputs": [
        {
          "output_type": "stream",
          "text": [
            "\u001b[31mERROR: torch-0.4.0-{platform}-linux_x86_64.whl is not a valid wheel filename.\u001b[0m\n",
            "Requirement already satisfied: torchvision in /usr/local/lib/python3.6/dist-packages (0.7.0+cu101)\n",
            "Requirement already satisfied: torch==1.6.0 in /usr/local/lib/python3.6/dist-packages (from torchvision) (1.6.0+cu101)\n",
            "Requirement already satisfied: pillow>=4.1.1 in /usr/local/lib/python3.6/dist-packages (from torchvision) (7.0.0)\n",
            "Requirement already satisfied: numpy in /usr/local/lib/python3.6/dist-packages (from torchvision) (1.18.5)\n",
            "Requirement already satisfied: future in /usr/local/lib/python3.6/dist-packages (from torch==1.6.0->torchvision) (0.16.0)\n"
          ],
          "name": "stdout"
        }
      ]
    },
    {
      "cell_type": "code",
      "metadata": {
        "id": "S3Dzf_FxvQ1g",
        "outputId": "130259bb-e319-412e-bd6c-a5d250fab83c",
        "colab": {
          "base_uri": "https://localhost:8080/"
        }
      },
      "source": [
        "import torch\n",
        "print(torch.__version__)\n",
        "#print(accelerator)\n",
        "print(torch.cuda.is_available())"
      ],
      "execution_count": null,
      "outputs": [
        {
          "output_type": "stream",
          "text": [
            "1.6.0+cu101\n",
            "False\n"
          ],
          "name": "stdout"
        }
      ]
    },
    {
      "cell_type": "code",
      "metadata": {
        "id": "EZIllWm05PPY"
      },
      "source": [
        "import urllib.request\n",
        "import os\n",
        "import zipfile\n",
        "import shutil\n",
        "from pathlib import Path"
      ],
      "execution_count": null,
      "outputs": []
    },
    {
      "cell_type": "code",
      "metadata": {
        "id": "wK5ee1QD5ZOm",
        "outputId": "bd59eaae-cc77-4607-9734-061f4665c3a3",
        "colab": {
          "base_uri": "https://localhost:8080/"
        }
      },
      "source": [
        "!wget http://bit.ly/FlickrLogos32v2"
      ],
      "execution_count": null,
      "outputs": [
        {
          "output_type": "stream",
          "text": [
            "--2020-10-31 23:34:22--  http://bit.ly/FlickrLogos32v2\n",
            "Resolving bit.ly (bit.ly)... 67.199.248.10, 67.199.248.11\n",
            "Connecting to bit.ly (bit.ly)|67.199.248.10|:80... connected.\n",
            "HTTP request sent, awaiting response... 301 Moved Permanently\n",
            "Location: https://myweb.rz.uni-augsburg.de/~brehmste/datasets/FlickrLogos-32_dataset_v2.zip [following]\n",
            "--2020-10-31 23:34:22--  https://myweb.rz.uni-augsburg.de/~brehmste/datasets/FlickrLogos-32_dataset_v2.zip\n",
            "Resolving myweb.rz.uni-augsburg.de (myweb.rz.uni-augsburg.de)... 137.250.2.103\n",
            "Connecting to myweb.rz.uni-augsburg.de (myweb.rz.uni-augsburg.de)|137.250.2.103|:443... connected.\n",
            "HTTP request sent, awaiting response... 200 OK\n",
            "Length: 3363984300 (3.1G) [application/zip]\n",
            "Saving to: ‘FlickrLogos32v2’\n",
            "\n",
            "FlickrLogos32v2     100%[===================>]   3.13G  16.5MB/s    in 3m 40s  \n",
            "\n",
            "2020-10-31 23:38:03 (14.6 MB/s) - ‘FlickrLogos32v2’ saved [3363984300/3363984300]\n",
            "\n"
          ],
          "name": "stdout"
        }
      ]
    },
    {
      "cell_type": "code",
      "metadata": {
        "id": "qpiqTFUIB3ZW"
      },
      "source": [
        "!unzip -uq \"FlickrLogos32v2\" -d \"./dataset\""
      ],
      "execution_count": null,
      "outputs": []
    },
    {
      "cell_type": "code",
      "metadata": {
        "id": "V_9g-VcvDZMM",
        "outputId": "dd3bac2d-9a56-41bb-d3e4-432486b4db00",
        "colab": {
          "base_uri": "https://localhost:8080/"
        }
      },
      "source": [
        "!ls dataset/FlickrLogos-v2/testset-nologos.relpaths.txt"
      ],
      "execution_count": null,
      "outputs": [
        {
          "output_type": "stream",
          "text": [
            "dataset/FlickrLogos-v2/testset-nologos.relpaths.txt\n"
          ],
          "name": "stdout"
        }
      ]
    },
    {
      "cell_type": "code",
      "metadata": {
        "id": "Ph9WJk1ND1A8"
      },
      "source": [
        "DATA_DIR = Path(\"dataset/FlickrLogos-v2/classes/jpg\")\n",
        "SETS = ['train', 'val', 'test']"
      ],
      "execution_count": null,
      "outputs": []
    },
    {
      "cell_type": "code",
      "metadata": {
        "id": "PGlTq98jEAQM"
      },
      "source": [
        "SOURCE_DIR = Path('dataset/FlickrLogos-v2')\n",
        "DATA_DIR = Path('data')\n",
        "SETS = ['train', 'val', 'test']"
      ],
      "execution_count": null,
      "outputs": []
    },
    {
      "cell_type": "code",
      "metadata": {
        "id": "vhiRNtxhEDz_",
        "outputId": "4bf7d1f6-26d5-4309-b664-41e3979a6ee9",
        "colab": {
          "base_uri": "https://localhost:8080/"
        }
      },
      "source": [
        "device = torch.device('cuda' if torch.cuda.is_available() else 'cpu')\n",
        "device"
      ],
      "execution_count": null,
      "outputs": [
        {
          "output_type": "execute_result",
          "data": {
            "text/plain": [
              "device(type='cpu')"
            ]
          },
          "metadata": {
            "tags": []
          },
          "execution_count": 25
        }
      ]
    },
    {
      "cell_type": "code",
      "metadata": {
        "id": "crGG6UecG6su"
      },
      "source": [
        "def load_datasets(url, dst_dir):\n",
        "    zip_file = url.split(sep='/')[-1]\n",
        "    zip_file_path = SOURCE_DIR / zip_file\n",
        "    if not dst_dir.is_dir():\n",
        "        if not zip_file_path.is_file():\n",
        "            urllib.request.urlretrieve(url, zip_file)        \n",
        "        with zipfile.ZipFile(zip_file) as zip_ref:\n",
        "            zip_ref.extractall()\n",
        "        #os.unlink(zip_file)    # comment out if you want to delete zip file"
      ],
      "execution_count": null,
      "outputs": []
    },
    {
      "cell_type": "code",
      "metadata": {
        "id": "WLzCAyDXG85u"
      },
      "source": [
        "%time load_datasets(FLICKLOGOS_URL, SOURCE_DIR)"
      ],
      "execution_count": null,
      "outputs": []
    },
    {
      "cell_type": "code",
      "metadata": {
        "id": "T-yJByh8HSTB"
      },
      "source": [
        "SOURCE_DIR = Path('./dataset/FlickrLogos-v2')\n",
        "DATA_DIR = Path('data')\n",
        "SETS = ['train', 'val', 'test']"
      ],
      "execution_count": null,
      "outputs": []
    },
    {
      "cell_type": "code",
      "metadata": {
        "id": "TOp9YFS2E26Q"
      },
      "source": [
        "def list_image_paths(txt_relpath):\n",
        "    with open(txt_relpath) as f:\n",
        "        image_paths = f.read().splitlines()\n",
        "    return image_paths"
      ],
      "execution_count": null,
      "outputs": []
    },
    {
      "cell_type": "code",
      "metadata": {
        "id": "d1XcnkquExfv"
      },
      "source": [
        "train_logo_relpaths = list_image_paths(SOURCE_DIR / 'trainset.relpaths.txt')\n",
        "val_logo_relpaths = list_image_paths(SOURCE_DIR / 'valset-logosonly.relpaths.txt')\n",
        "val_nologo_relpaths = list_image_paths(SOURCE_DIR / 'valset-nologos.relpaths.txt')\n",
        "test_relpaths = list_image_paths(SOURCE_DIR / 'testset.relpaths.txt')"
      ],
      "execution_count": null,
      "outputs": []
    },
    {
      "cell_type": "code",
      "metadata": {
        "id": "8lF3fjDCFT6A",
        "outputId": "d4b6089f-931c-4415-aa07-048073fb1c43",
        "colab": {
          "base_uri": "https://localhost:8080/"
        }
      },
      "source": [
        "print('Numbers of Training Images (logo): ',len(train_logo_relpaths))\n",
        "print('Numbers of Validation Images (logo): ',len(val_logo_relpaths))\n",
        "print('Numbers of Training Images (no logo): ',len(val_nologo_relpaths))\n",
        "print('Numbers of Test Images (logos + no log): ',len(test_relpaths))"
      ],
      "execution_count": null,
      "outputs": [
        {
          "output_type": "stream",
          "text": [
            "Numbers of Training Images (logo):  320\n",
            "Numbers of Validation Images (logo):  960\n",
            "Numbers of Training Images (no logo):  3000\n",
            "Numbers of Test Images (logos + no log):  3960\n"
          ],
          "name": "stdout"
        }
      ]
    },
    {
      "cell_type": "code",
      "metadata": {
        "id": "Wzi06ElUFW_L"
      },
      "source": [
        "train_relpaths = train_logo_relpaths + val_nologo_relpaths[:int(len(val_nologo_relpaths) / 2)]\n",
        "val_relpaths = val_logo_relpaths + val_nologo_relpaths[int(len(val_nologo_relpaths) / 2):]"
      ],
      "execution_count": null,
      "outputs": []
    },
    {
      "cell_type": "code",
      "metadata": {
        "id": "c2-BXBHlFh3z",
        "outputId": "b6ed3a9c-b50d-4539-d1a6-f4d6da8db770",
        "colab": {
          "base_uri": "https://localhost:8080/"
        }
      },
      "source": [
        "print('Numbers of Training Images (logos + no logo): ',len(train_relpaths))\n",
        "print('Numbers of Validation Images (logos + no logo): ',len(val_relpaths))\n",
        "print('Numbers of Training Images (logos + no log): ',len(test_relpaths))"
      ],
      "execution_count": null,
      "outputs": [
        {
          "output_type": "stream",
          "text": [
            "Numbers of Training Images (logos + no logo):  1820\n",
            "Numbers of Validation Images (logos + no logo):  2460\n",
            "Numbers of Training Images (logos + no log):  3960\n"
          ],
          "name": "stdout"
        }
      ]
    },
    {
      "cell_type": "code",
      "metadata": {
        "id": "tZMcOO80GaRJ"
      },
      "source": [
        "relpaths = [train_relpaths, val_relpaths, test_relpaths]\n",
        "dataset_paths = dict(zip(SETS, relpaths))"
      ],
      "execution_count": null,
      "outputs": []
    },
    {
      "cell_type": "code",
      "metadata": {
        "id": "gzzHEpYdGdNI",
        "outputId": "ba0a5ccd-ba9f-439c-dd6b-b55a20817bdc",
        "colab": {
          "base_uri": "https://localhost:8080/"
        }
      },
      "source": [
        "len(dataset_paths['train'])"
      ],
      "execution_count": null,
      "outputs": [
        {
          "output_type": "execute_result",
          "data": {
            "text/plain": [
              "1820"
            ]
          },
          "metadata": {
            "tags": []
          },
          "execution_count": 85
        }
      ]
    },
    {
      "cell_type": "code",
      "metadata": {
        "id": "UTYGSv-xGgSt",
        "outputId": "2486e0df-9cde-4136-8724-02613a6b5d26",
        "colab": {
          "base_uri": "https://localhost:8080/",
          "height": 35
        }
      },
      "source": [
        "train_logo_relpaths[0]"
      ],
      "execution_count": null,
      "outputs": [
        {
          "output_type": "execute_result",
          "data": {
            "application/vnd.google.colaboratory.intrinsic+json": {
              "type": "string"
            },
            "text/plain": [
              "'classes/jpg/google/2325670467.jpg'"
            ]
          },
          "metadata": {
            "tags": []
          },
          "execution_count": 86
        }
      ]
    },
    {
      "cell_type": "code",
      "metadata": {
        "id": "AZg_KUQSGklK"
      },
      "source": [
        "def prepare_datasets(src_dir, dst_dir, keep_source=True):\n",
        "    for dataset, paths in dataset_paths.items():\n",
        "        num_files = 0\n",
        "        for path in paths:\n",
        "            num_files += 1\n",
        "            src = src_dir / path\n",
        "            dst = dst_dir / (path.replace('classes/jpg', dataset))\n",
        "            dst.parent.mkdir(parents=True, exist_ok=True)\n",
        "            shutil.copy2(src, dst)\n",
        "        print(dataset, 'dataset:', str(num_files))\n",
        "    if not keep_source: shutil.rmtree(src_dir)"
      ],
      "execution_count": null,
      "outputs": []
    },
    {
      "cell_type": "code",
      "metadata": {
        "id": "LcgCUTsmGoRv",
        "outputId": "76f28d77-c3ce-4bf0-b037-676cd1d78dd8",
        "colab": {
          "base_uri": "https://localhost:8080/"
        }
      },
      "source": [
        "print(SOURCE_DIR)"
      ],
      "execution_count": null,
      "outputs": [
        {
          "output_type": "stream",
          "text": [
            "dataset/FlickrLogos-v2\n"
          ],
          "name": "stdout"
        }
      ]
    },
    {
      "cell_type": "code",
      "metadata": {
        "id": "rALpUqwuH7-t",
        "outputId": "afbd2e0e-7d60-463a-859b-cd03fc72fcf6",
        "colab": {
          "base_uri": "https://localhost:8080/"
        }
      },
      "source": [
        "%time prepare_datasets(SOURCE_DIR, DATA_DIR)"
      ],
      "execution_count": null,
      "outputs": [
        {
          "output_type": "stream",
          "text": [
            "train dataset: 1820\n",
            "val dataset: 2460\n",
            "test dataset: 3960\n",
            "CPU times: user 1.77 s, sys: 6.47 s, total: 8.24 s\n",
            "Wall time: 38.2 s\n"
          ],
          "name": "stdout"
        }
      ]
    },
    {
      "cell_type": "code",
      "metadata": {
        "id": "jlzGyPiyKjWK"
      },
      "source": [
        "%matplotlib inline\n",
        "import time\n",
        "import copy\n",
        "import numpy as np\n",
        "import matplotlib.pyplot as plt\n",
        "import torch\n",
        "import torch.nn as nn\n",
        "import torch.nn.functional as F\n",
        "import torch.optim as optim\n",
        "import torchvision\n",
        "from torchvision.transforms import transforms\n",
        "from torch.utils.data import DataLoader"
      ],
      "execution_count": null,
      "outputs": []
    },
    {
      "cell_type": "code",
      "metadata": {
        "id": "NeQbqG0iKpYw"
      },
      "source": [
        "train_mean = np.array([0.44943, 0.4331 , 0.40244])\n",
        "train_std = np.array([0.29053, 0.28417, 0.30194])"
      ],
      "execution_count": null,
      "outputs": []
    },
    {
      "cell_type": "code",
      "metadata": {
        "id": "WaVR-5-3Kvpj"
      },
      "source": [
        "data_transforms = transforms.Compose([\n",
        "    transforms.Resize((224, 224)), \n",
        "    transforms.ToTensor(),\n",
        "    transforms.Normalize(train_mean, train_std)\n",
        "])"
      ],
      "execution_count": null,
      "outputs": []
    },
    {
      "cell_type": "code",
      "metadata": {
        "id": "QTm8qU-nLD4x"
      },
      "source": [
        "\n",
        "datasets = {i : torchvision.datasets.ImageFolder(DATA_DIR / i, data_transforms) \n",
        "            for i in SETS}"
      ],
      "execution_count": null,
      "outputs": []
    },
    {
      "cell_type": "code",
      "metadata": {
        "id": "yfa9aw0MSiGI"
      },
      "source": [
        "bz = 8 # lower if error"
      ],
      "execution_count": null,
      "outputs": []
    },
    {
      "cell_type": "code",
      "metadata": {
        "id": "v8ySzSCsSpg4"
      },
      "source": [
        "dataloaders = {i : DataLoader(datasets[i], batch_size=bz, shuffle=(i == 'train'), num_workers=4) \n",
        "               for i in SETS}"
      ],
      "execution_count": null,
      "outputs": []
    },
    {
      "cell_type": "code",
      "metadata": {
        "id": "Dlx9jlSXTrsB"
      },
      "source": [
        "def imshow(img):\n",
        "    npimg = img.numpy().transpose((1, 2, 0))\n",
        "    npimg = npimg * train_std + train_std    # denorm\n",
        "    npimg = np.clip(npimg, 0, 1)\n",
        "    plt.imshow(npimg)"
      ],
      "execution_count": null,
      "outputs": []
    },
    {
      "cell_type": "code",
      "metadata": {
        "id": "rghIBG2jTxDn"
      },
      "source": [
        "imgs, labels = next(iter(dataloaders['train']))"
      ],
      "execution_count": null,
      "outputs": []
    },
    {
      "cell_type": "code",
      "metadata": {
        "id": "g8YgBlYDZkfP",
        "outputId": "1132ab70-f812-40c8-de76-e731ed86952e",
        "colab": {
          "base_uri": "https://localhost:8080/",
          "height": 153
        }
      },
      "source": [
        "img = torchvision.utils.make_grid(imgs[:4])\n",
        "classes = datasets['train'].classes\n",
        "print(', '.join(classes[i] for i in labels[:4]))\n",
        "imshow(img)"
      ],
      "execution_count": null,
      "outputs": [
        {
          "output_type": "stream",
          "text": [
            "no-logo, no-logo, esso, no-logo\n"
          ],
          "name": "stdout"
        },
        {
          "output_type": "display_data",
          "data": {
            "image/png": "[encoded data removed]",
            "text/plain": [
              "<Figure size 432x288 with 1 Axes>"
            ]
          },
          "metadata": {
            "tags": [],
            "needs_background": "light"
          }
        }
      ]
    },
    {
      "cell_type": "code",
      "metadata": {
        "id": "hU-Yqa1UZ9ae"
      },
      "source": [
        "class CNN(nn.Module):\n",
        "    def __init__(self):\n",
        "        super(CNN, self).__init__()\n",
        "        self.conv1 = nn.Conv2d(3, 6, 5)\n",
        "        self.pool = nn.MaxPool2d(2, 2)\n",
        "        self.conv2 = nn.Conv2d(6, 16, 5)\n",
        "        self.fc1 = nn.Linear(16 * 53 * 53, 120)\n",
        "        self.fc2 = nn.Linear(120, 84)\n",
        "        self.fc3 = nn.Linear(84, 33)        \n",
        "        \n",
        "    def forward(self, x):\n",
        "        x = self.pool(F.relu(self.conv1(x)))\n",
        "        x = self.pool(F.relu(self.conv2(x)))\n",
        "        x = x.view(-1, 16 * 53 * 53)\n",
        "        x = F.relu(self.fc1(x))\n",
        "        x = F.relu(self.fc2(x))\n",
        "        x = self.fc3(x)\n",
        "        return x"
      ],
      "execution_count": null,
      "outputs": []
    },
    {
      "cell_type": "code",
      "metadata": {
        "id": "pf0A5beuaBHz"
      },
      "source": [
        "device = torch.device('cuda' if torch.cuda.is_available() else 'cpu')"
      ],
      "execution_count": null,
      "outputs": []
    },
    {
      "cell_type": "code",
      "metadata": {
        "id": "72AdQ5T2aFMZ",
        "outputId": "5da7edff-832a-4c9d-f7a6-ac52346afc47",
        "colab": {
          "base_uri": "https://localhost:8080/"
        }
      },
      "source": [
        "cnn = CNN()\n",
        "cnn = cnn.to(device)\n",
        "cnn"
      ],
      "execution_count": null,
      "outputs": [
        {
          "output_type": "execute_result",
          "data": {
            "text/plain": [
              "CNN(\n",
              "  (conv1): Conv2d(3, 6, kernel_size=(5, 5), stride=(1, 1))\n",
              "  (pool): MaxPool2d(kernel_size=2, stride=2, padding=0, dilation=1, ceil_mode=False)\n",
              "  (conv2): Conv2d(6, 16, kernel_size=(5, 5), stride=(1, 1))\n",
              "  (fc1): Linear(in_features=44944, out_features=120, bias=True)\n",
              "  (fc2): Linear(in_features=120, out_features=84, bias=True)\n",
              "  (fc3): Linear(in_features=84, out_features=33, bias=True)\n",
              ")"
            ]
          },
          "metadata": {
            "tags": []
          },
          "execution_count": 104
        }
      ]
    },
    {
      "cell_type": "code",
      "metadata": {
        "id": "en_SeC15aKFm"
      },
      "source": [
        "criterion = nn.CrossEntropyLoss()\n",
        "optimizer = optim.SGD(cnn.parameters(), lr=0.001, momentum=0.9)"
      ],
      "execution_count": null,
      "outputs": []
    },
    {
      "cell_type": "code",
      "metadata": {
        "id": "AyIv06ciaP_r"
      },
      "source": [
        "def train_val(model, criterion, optimizer, num_epochs=25):\n",
        "    since = time.time()\n",
        "    \n",
        "    best_model_wts = copy.deepcopy(model.state_dict())\n",
        "    best_acc = 0.0\n",
        "    \n",
        "    for epoch in range(num_epochs):\n",
        "        print('Epoc {}/{}'.format(epoch, num_epochs - 1))\n",
        "        print('-' * 10)\n",
        "        for phase in ['train', 'val']:\n",
        "            if phase == 'train':\n",
        "                model.train()\n",
        "            else:\n",
        "                model.eval()\n",
        "            running_loss = 0.0\n",
        "            running_corrects = 0\n",
        "            for inputs, labels in dataloaders[phase]:\n",
        "                inputs, labels = inputs.to(device), labels.to(device)\n",
        "            \n",
        "                optimizer.zero_grad()\n",
        "\n",
        "                with torch.set_grad_enabled(phase == 'train'):\n",
        "                    # Forward pass\n",
        "                    outputs = model(inputs)\n",
        "                    _, preds = torch.max(outputs, 1)\n",
        "\n",
        "                    # Compute loss\n",
        "                    loss = criterion(outputs, labels)\n",
        "\n",
        "                    # Compute gradients and update parameters if train\n",
        "                    if phase == 'train':\n",
        "                        loss.backward()\n",
        "                        optimizer.step()\n",
        "\n",
        "                running_loss += loss.item() * inputs.size()[0]\n",
        "                running_corrects += torch.sum(preds == labels).item()\n",
        "\n",
        "            epoch_loss = running_loss / len(datasets[phase])\n",
        "            epoch_acc = running_corrects / len(datasets[phase])\n",
        "        \n",
        "            print('{} Loss: {:.4f} Acc.: {:.2f} %'.format(\n",
        "                phase.title(), epoch_loss, epoch_acc * 100))\n",
        "        \n",
        "            if phase == 'val' and epoch_acc > best_acc:\n",
        "                best_acc = epoch_acc\n",
        "                best_model_wts = copy.deepcopy(model.state_dict())\n",
        "        print()\n",
        "    \n",
        "    time_elapsed = time.time() - since\n",
        "    print('Training complete in {:.0f}m {:.0f}s'.format(\n",
        "        time_elapsed // 60, time_elapsed % 60))\n",
        "    print('Best Accuracy: {:.2f} %'.format(best_acc * 100))\n",
        "    model.load_state_dict(best_model_wts)\n",
        "    \n",
        "    return model\n"
      ],
      "execution_count": null,
      "outputs": []
    },
    {
      "cell_type": "code",
      "metadata": {
        "id": "zHYGULo6aVU8",
        "outputId": "7e19e512-5832-4370-d867-e683e60a37a6",
        "colab": {
          "base_uri": "https://localhost:8080/"
        }
      },
      "source": [
        "%time model_cnn = train_val(cnn, criterion, optimizer)"
      ],
      "execution_count": null,
      "outputs": [
        {
          "output_type": "stream",
          "text": [
            "Epoc 0/24\n",
            "----------\n",
            "Train Loss: 1.4347 Acc.: 80.27 %\n",
            "Val Loss: 2.3275 Acc.: 60.98 %\n",
            "\n",
            "Epoc 1/24\n",
            "----------\n",
            "Train Loss: 1.0567 Acc.: 82.42 %\n",
            "Val Loss: 2.2330 Acc.: 60.98 %\n",
            "\n",
            "Epoc 2/24\n",
            "----------\n",
            "Train Loss: 0.9865 Acc.: 82.42 %\n",
            "Val Loss: 2.3150 Acc.: 60.98 %\n",
            "\n",
            "Epoc 3/24\n",
            "----------\n",
            "Train Loss: 0.9406 Acc.: 82.42 %\n",
            "Val Loss: 2.7631 Acc.: 60.98 %\n",
            "\n",
            "Epoc 4/24\n",
            "----------\n",
            "Train Loss: 0.9137 Acc.: 82.42 %\n",
            "Val Loss: 2.1528 Acc.: 60.98 %\n",
            "\n",
            "Epoc 5/24\n",
            "----------\n",
            "Train Loss: 0.8578 Acc.: 82.42 %\n",
            "Val Loss: 2.1565 Acc.: 61.06 %\n",
            "\n",
            "Epoc 6/24\n",
            "----------\n",
            "Train Loss: 0.7774 Acc.: 82.53 %\n",
            "Val Loss: 2.5278 Acc.: 60.77 %\n",
            "\n",
            "Epoc 7/24\n",
            "----------\n",
            "Train Loss: 0.7359 Acc.: 83.79 %\n",
            "Val Loss: 2.2129 Acc.: 58.86 %\n",
            "\n",
            "Epoc 8/24\n",
            "----------\n",
            "Train Loss: 0.5565 Acc.: 86.10 %\n",
            "Val Loss: 2.3971 Acc.: 55.73 %\n",
            "\n",
            "Epoc 9/24\n",
            "----------\n",
            "Train Loss: 0.3863 Acc.: 90.82 %\n",
            "Val Loss: 3.8747 Acc.: 60.24 %\n",
            "\n",
            "Epoc 10/24\n",
            "----------\n",
            "Train Loss: 0.1553 Acc.: 96.54 %\n",
            "Val Loss: 4.9264 Acc.: 58.13 %\n",
            "\n",
            "Epoc 11/24\n",
            "----------\n",
            "Train Loss: 0.0760 Acc.: 98.46 %\n",
            "Val Loss: 6.7167 Acc.: 60.73 %\n",
            "\n",
            "Epoc 12/24\n",
            "----------\n",
            "Train Loss: 0.0242 Acc.: 99.56 %\n",
            "Val Loss: 6.6033 Acc.: 60.49 %\n",
            "\n",
            "Epoc 13/24\n",
            "----------\n",
            "Train Loss: 0.0088 Acc.: 99.95 %\n",
            "Val Loss: 7.1057 Acc.: 60.12 %\n",
            "\n",
            "Epoc 14/24\n",
            "----------\n",
            "Train Loss: 0.0031 Acc.: 100.00 %\n",
            "Val Loss: 7.2593 Acc.: 60.08 %\n",
            "\n",
            "Epoc 15/24\n",
            "----------\n",
            "Train Loss: 0.0017 Acc.: 100.00 %\n",
            "Val Loss: 7.3200 Acc.: 60.08 %\n",
            "\n",
            "Epoc 16/24\n",
            "----------\n",
            "Train Loss: 0.0012 Acc.: 100.00 %\n",
            "Val Loss: 7.6310 Acc.: 60.20 %\n",
            "\n",
            "Epoc 17/24\n",
            "----------\n",
            "Train Loss: 0.0010 Acc.: 100.00 %\n",
            "Val Loss: 7.6643 Acc.: 60.08 %\n",
            "\n",
            "Epoc 18/24\n",
            "----------\n",
            "Train Loss: 0.0008 Acc.: 100.00 %\n",
            "Val Loss: 7.8339 Acc.: 60.08 %\n",
            "\n",
            "Epoc 19/24\n",
            "----------\n",
            "Train Loss: 0.0007 Acc.: 100.00 %\n",
            "Val Loss: 7.8555 Acc.: 60.04 %\n",
            "\n",
            "Epoc 20/24\n",
            "----------\n",
            "Train Loss: 0.0006 Acc.: 100.00 %\n",
            "Val Loss: 8.0191 Acc.: 60.08 %\n",
            "\n",
            "Epoc 21/24\n",
            "----------\n",
            "Train Loss: 0.0005 Acc.: 100.00 %\n",
            "Val Loss: 8.1216 Acc.: 60.08 %\n",
            "\n",
            "Epoc 22/24\n",
            "----------\n",
            "Train Loss: 0.0005 Acc.: 100.00 %\n",
            "Val Loss: 8.1591 Acc.: 60.04 %\n",
            "\n",
            "Epoc 23/24\n",
            "----------\n",
            "Train Loss: 0.0004 Acc.: 100.00 %\n",
            "Val Loss: 8.2352 Acc.: 60.04 %\n",
            "\n",
            "Epoc 24/24\n",
            "----------\n",
            "Train Loss: 0.0004 Acc.: 100.00 %\n",
            "Val Loss: 8.3164 Acc.: 60.04 %\n",
            "\n",
            "Training complete in 52m 2s\n",
            "Best Accuracy: 61.06 %\n",
            "CPU times: user 33min 56s, sys: 1min 23s, total: 35min 19s\n",
            "Wall time: 52min 1s\n"
          ],
          "name": "stdout"
        }
      ]
    },
    {
      "cell_type": "code",
      "metadata": {
        "id": "t9SNkTEQV1mk"
      },
      "source": [
        "def test(model):\n",
        "    model.eval()\n",
        "    running_corrects = 0\n",
        "    with torch.no_grad():\n",
        "        for inputs, labels in dataloaders['test']:\n",
        "            inputs, labels = inputs.to(device), labels.to(device)\n",
        "            outputs = model(inputs)\n",
        "            _, preds = torch.max(outputs, 1)\n",
        "            \n",
        "            running_corrects += torch.sum(preds == labels).item()\n",
        "        \n",
        "    test_acc = running_corrects / len(datasets['test'])\n",
        "    print('Test Acc.: {:.2f} %'.format(test_acc * 100))"
      ],
      "execution_count": null,
      "outputs": []
    },
    {
      "cell_type": "code",
      "metadata": {
        "id": "ly1mboEwV5aO",
        "outputId": "a7f071af-5033-4845-b981-3020a2b8eacb",
        "colab": {
          "base_uri": "https://localhost:8080/"
        }
      },
      "source": [
        "%time test(model_cnn)"
      ],
      "execution_count": null,
      "outputs": [
        {
          "output_type": "stream",
          "text": [
            "Test Acc.: 75.71 %\n",
            "CPU times: user 45.3 s, sys: 2.12 s, total: 47.5 s\n",
            "Wall time: 1min 40s\n"
          ],
          "name": "stdout"
        }
      ]
    }
  ]
}